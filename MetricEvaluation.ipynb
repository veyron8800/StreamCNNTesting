{
 "cells": [
  {
   "cell_type": "code",
   "execution_count": 11,
   "metadata": {},
   "outputs": [],
   "source": [
    "import sklearn.metrics as metrics\n",
    "import numpy as np"
   ]
  },
  {
   "cell_type": "code",
   "execution_count": 9,
   "metadata": {},
   "outputs": [],
   "source": [
    "inference_out_folder = 'InferenceResults'"
   ]
  },
  {
   "cell_type": "code",
   "execution_count": 15,
   "metadata": {},
   "outputs": [],
   "source": [
    "def binary_accuracy(y_true, y_pred):\n",
    "    count = len(np.where(((y_true==1)&(y_pred>=0.5))|((y_true==0)&(y_pred<0.5)))[0])\n",
    "    return count/len(y_true)"
   ]
  },
  {
   "cell_type": "code",
   "execution_count": 16,
   "metadata": {},
   "outputs": [],
   "source": [
    "def calculate_metrics(inference_results_file):\n",
    "    with open(r'TestingData/test_labels.dat', 'r') as labels_in, open(inference_results_file, 'r') as inference_in:\n",
    "        truth_labels = np.array(labels_in.read().split('\\n')).astype(float)\n",
    "        inference_results = np.array(inference_in.read().split('\\n')).astype(float)\n",
    "    print(f'Binary Accuracy = {binary_accuracy(truth_labels, inference_results)}')\n",
    "    fpr, tpr, threshold = metrics.roc_curve(truth_labels, inference_results, drop_intermediate=False)\n",
    "    auc = metrics.auc(fpr, tpr)\n",
    "    print(f'AUC = {auc}')"
   ]
  },
  {
   "cell_type": "code",
   "execution_count": 18,
   "metadata": {
    "scrolled": true
   },
   "outputs": [
    {
     "name": "stdout",
     "output_type": "stream",
     "text": [
      "Binary Accuracy = 0.775\n",
      "AUC = 0.8548\n"
     ]
    }
   ],
   "source": [
    "# Floating point control model\n",
    "calculate_metrics(inference_out_folder + r'\\control_fp_out.dat')"
   ]
  },
  {
   "cell_type": "code",
   "execution_count": null,
   "metadata": {},
   "outputs": [],
   "source": []
  }
 ],
 "metadata": {
  "kernelspec": {
   "display_name": "Python 3",
   "language": "python",
   "name": "python3"
  },
  "language_info": {
   "codemirror_mode": {
    "name": "ipython",
    "version": 3
   },
   "file_extension": ".py",
   "mimetype": "text/x-python",
   "name": "python",
   "nbconvert_exporter": "python",
   "pygments_lexer": "ipython3",
   "version": "3.7.8"
  }
 },
 "nbformat": 4,
 "nbformat_minor": 4
}
